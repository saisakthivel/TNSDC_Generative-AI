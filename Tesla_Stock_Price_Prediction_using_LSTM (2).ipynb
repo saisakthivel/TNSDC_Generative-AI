{
  "metadata": {
    "kernelspec": {
      "language": "python",
      "display_name": "Python 3",
      "name": "python3"
    },
    "language_info": {
      "pygments_lexer": "ipython3",
      "nbconvert_exporter": "python",
      "version": "3.6.4",
      "file_extension": ".py",
      "codemirror_mode": {
        "name": "ipython",
        "version": 3
      },
      "name": "python",
      "mimetype": "text/x-python"
    },
    "colab": {
      "name": "Tesla Stock Price Prediction using LSTM ",
      "provenance": []
    }
  },
  "nbformat_minor": 0,
  "nbformat": 4,
  "cells": [
    {
      "source": [
        "\n",
        "# IMPORTANT: RUN THIS CELL IN ORDER TO IMPORT YOUR KAGGLE DATA SOURCES\n",
        "# TO THE CORRECT LOCATION (/kaggle/input) IN YOUR NOTEBOOK,\n",
        "# THEN FEEL FREE TO DELETE THIS CELL.\n",
        "# NOTE: THIS NOTEBOOK ENVIRONMENT DIFFERS FROM KAGGLE'S PYTHON\n",
        "# ENVIRONMENT SO THERE MAY BE MISSING LIBRARIES USED BY YOUR\n",
        "# NOTEBOOK.\n",
        "\n",
        "import os\n",
        "import sys\n",
        "from tempfile import NamedTemporaryFile\n",
        "from urllib.request import urlopen\n",
        "from urllib.parse import unquote, urlparse\n",
        "from urllib.error import HTTPError\n",
        "from zipfile import ZipFile\n",
        "import tarfile\n",
        "import shutil\n",
        "\n",
        "CHUNK_SIZE = 40960\n",
        "DATA_SOURCE_MAPPING = 'tesla-stock-price:https%3A%2F%2Fstorage.googleapis.com%2Fkaggle-data-sets%2F3161600%2F5475006%2Fbundle%2Farchive.zip%3FX-Goog-Algorithm%3DGOOG4-RSA-SHA256%26X-Goog-Credential%3Dgcp-kaggle-com%2540kaggle-161607.iam.gserviceaccount.com%252F20240401%252Fauto%252Fstorage%252Fgoog4_request%26X-Goog-Date%3D20240401T160124Z%26X-Goog-Expires%3D259200%26X-Goog-SignedHeaders%3Dhost%26X-Goog-Signature%3Dba1c1299f5c7896f5f88048e5d463fccb1c8df3cf83b7913ea715f98aec5725efe059e5eb374b9e2fa0db5f9f3e3352809f63c4fe147604da9ae7bf4902191c2fbffb64bfbfccab9e069be245b73f60acda9ac0a4b11295689fd9878219fcf5415081fe1056ec32e651c80ee12143eca4223bf8fa7eed8dd1358043638a5b345407bdeebed0e7fa7953c6683ff70f661617b41be468d8e933b9191b20de20b1e0efda65da51d38286ab6319eb5a41ccc5aea3af0bcc84d3f7c2454af9bca6d433ed1cab19f53980ec42da7c6d6807e6f68ac0f55e3585ac989e2a83d28a5a85282758e274a46c808c2259797f1f218f64e9cb0e55e11185d0dd131fe58f66e66'\n",
        "\n",
        "KAGGLE_INPUT_PATH='/kaggle/input'\n",
        "KAGGLE_WORKING_PATH='/kaggle/working'\n",
        "KAGGLE_SYMLINK='kaggle'\n",
        "\n",
        "!umount /kaggle/input/ 2> /dev/null\n",
        "shutil.rmtree('/kaggle/input', ignore_errors=True)\n",
        "os.makedirs(KAGGLE_INPUT_PATH, 0o777, exist_ok=True)\n",
        "os.makedirs(KAGGLE_WORKING_PATH, 0o777, exist_ok=True)\n",
        "\n",
        "try:\n",
        "  os.symlink(KAGGLE_INPUT_PATH, os.path.join(\"..\", 'input'), target_is_directory=True)\n",
        "except FileExistsError:\n",
        "  pass\n",
        "try:\n",
        "  os.symlink(KAGGLE_WORKING_PATH, os.path.join(\"..\", 'working'), target_is_directory=True)\n",
        "except FileExistsError:\n",
        "  pass\n",
        "\n",
        "for data_source_mapping in DATA_SOURCE_MAPPING.split(','):\n",
        "    directory, download_url_encoded = data_source_mapping.split(':')\n",
        "    download_url = unquote(download_url_encoded)\n",
        "    filename = urlparse(download_url).path\n",
        "    destination_path = os.path.join(KAGGLE_INPUT_PATH, directory)\n",
        "    try:\n",
        "        with urlopen(download_url) as fileres, NamedTemporaryFile() as tfile:\n",
        "            total_length = fileres.headers['content-length']\n",
        "            print(f'Downloading {directory}, {total_length} bytes compressed')\n",
        "            dl = 0\n",
        "            data = fileres.read(CHUNK_SIZE)\n",
        "            while len(data) > 0:\n",
        "                dl += len(data)\n",
        "                tfile.write(data)\n",
        "                done = int(50 * dl / int(total_length))\n",
        "                sys.stdout.write(f\"\\r[{'=' * done}{' ' * (50-done)}] {dl} bytes downloaded\")\n",
        "                sys.stdout.flush()\n",
        "                data = fileres.read(CHUNK_SIZE)\n",
        "            if filename.endswith('.zip'):\n",
        "              with ZipFile(tfile) as zfile:\n",
        "                zfile.extractall(destination_path)\n",
        "            else:\n",
        "              with tarfile.open(tfile.name) as tarfile:\n",
        "                tarfile.extractall(destination_path)\n",
        "            print(f'\\nDownloaded and uncompressed: {directory}')\n",
        "    except HTTPError as e:\n",
        "        print(f'Failed to load (likely expired) {download_url} to path {destination_path}')\n",
        "        continue\n",
        "    except OSError as e:\n",
        "        print(f'Failed to load {download_url} to path {destination_path}')\n",
        "        continue\n",
        "\n",
        "print('Data source import complete.')\n"
      ],
      "metadata": {
        "id": "TuS6QVRlZOSj"
      },
      "cell_type": "code",
      "outputs": [],
      "execution_count": null
    },
    {
      "cell_type": "markdown",
      "source": [
        "**Load Necessary Packages**"
      ],
      "metadata": {
        "id": "aeR5-hplZOSl"
      }
    },
    {
      "cell_type": "code",
      "source": [
        "import pandas as pd\n",
        "from sklearn import preprocessing\n",
        "import numpy as np\n",
        "\n",
        "import keras\n",
        "import tensorflow as tf\n",
        "from keras.models import Model\n",
        "from keras.layers import Dense, Dropout, LSTM, Input, Activation, concatenate\n",
        "from keras import optimizers\n",
        "from keras.callbacks import EarlyStopping\n",
        "\n",
        "np.random.seed(4)\n",
        "\n",
        "from tensorflow.random import set_seed\n",
        "set_seed(4)"
      ],
      "metadata": {
        "execution": {
          "iopub.status.busy": "2023-04-22T08:53:05.340972Z",
          "iopub.execute_input": "2023-04-22T08:53:05.341908Z",
          "iopub.status.idle": "2023-04-22T08:53:12.772261Z",
          "shell.execute_reply.started": "2023-04-22T08:53:05.341867Z",
          "shell.execute_reply": "2023-04-22T08:53:12.771147Z"
        },
        "trusted": true,
        "id": "gsxpctyQZOSm"
      },
      "execution_count": null,
      "outputs": []
    },
    {
      "cell_type": "markdown",
      "source": [
        "**Use past 50 days closing price to predict next day closing price**"
      ],
      "metadata": {
        "id": "M6TSX715ZOSm"
      }
    },
    {
      "cell_type": "code",
      "source": [
        "history_points = 50"
      ],
      "metadata": {
        "execution": {
          "iopub.status.busy": "2023-04-22T08:53:12.774424Z",
          "iopub.execute_input": "2023-04-22T08:53:12.775092Z",
          "iopub.status.idle": "2023-04-22T08:53:12.780556Z",
          "shell.execute_reply.started": "2023-04-22T08:53:12.775045Z",
          "shell.execute_reply": "2023-04-22T08:53:12.779379Z"
        },
        "trusted": true,
        "id": "WrSKiYpbZOSm"
      },
      "execution_count": null,
      "outputs": []
    },
    {
      "cell_type": "markdown",
      "source": [
        "**Load dataset**"
      ],
      "metadata": {
        "id": "VOUvveYSZOSn"
      }
    },
    {
      "cell_type": "code",
      "source": [
        "data = pd.read_csv('/kaggle/input/tesla-stock-price/TSLA_daily.csv')\n",
        "data.head()"
      ],
      "metadata": {
        "execution": {
          "iopub.status.busy": "2023-04-22T08:53:12.782415Z",
          "iopub.execute_input": "2023-04-22T08:53:12.783165Z",
          "iopub.status.idle": "2023-04-22T08:53:12.852215Z",
          "shell.execute_reply.started": "2023-04-22T08:53:12.783124Z",
          "shell.execute_reply": "2023-04-22T08:53:12.850885Z"
        },
        "trusted": true,
        "id": "HMuB7tUEZOSn"
      },
      "execution_count": null,
      "outputs": []
    },
    {
      "cell_type": "markdown",
      "source": [
        "Reverse the time series order so that Last days comes at the last"
      ],
      "metadata": {
        "id": "vZ8pO74PZOSn"
      }
    },
    {
      "cell_type": "code",
      "source": [
        "data = data.iloc[::-1]\n",
        "data.reset_index(drop = True, inplace=True)\n",
        "data.head()"
      ],
      "metadata": {
        "execution": {
          "iopub.status.busy": "2023-04-22T08:53:12.854017Z",
          "iopub.execute_input": "2023-04-22T08:53:12.854418Z",
          "iopub.status.idle": "2023-04-22T08:53:12.873039Z",
          "shell.execute_reply.started": "2023-04-22T08:53:12.854377Z",
          "shell.execute_reply": "2023-04-22T08:53:12.871772Z"
        },
        "trusted": true,
        "id": "ZezxdPRXZOSn"
      },
      "execution_count": null,
      "outputs": []
    },
    {
      "cell_type": "markdown",
      "source": [
        "**Drop Date Column**"
      ],
      "metadata": {
        "id": "F5or8nuBZOSn"
      }
    },
    {
      "cell_type": "code",
      "source": [
        "data = data.drop('date', axis=1)"
      ],
      "metadata": {
        "execution": {
          "iopub.status.busy": "2023-04-22T08:53:12.87873Z",
          "iopub.execute_input": "2023-04-22T08:53:12.879145Z",
          "iopub.status.idle": "2023-04-22T08:53:12.888678Z",
          "shell.execute_reply.started": "2023-04-22T08:53:12.879111Z",
          "shell.execute_reply": "2023-04-22T08:53:12.887413Z"
        },
        "trusted": true,
        "id": "8lc2PFakZOSn"
      },
      "execution_count": null,
      "outputs": []
    },
    {
      "cell_type": "markdown",
      "source": [
        "**Perform MinMax Scalar Normalization of the time series using sklearn preprocessing package**"
      ],
      "metadata": {
        "id": "M4kX8LRiZOSo"
      }
    },
    {
      "cell_type": "code",
      "source": [
        "data_normaliser = preprocessing.MinMaxScaler()\n",
        "data_normalised = data_normaliser.fit_transform(data)"
      ],
      "metadata": {
        "execution": {
          "iopub.status.busy": "2023-04-22T08:53:12.89065Z",
          "iopub.execute_input": "2023-04-22T08:53:12.891158Z",
          "iopub.status.idle": "2023-04-22T08:53:12.902845Z",
          "shell.execute_reply.started": "2023-04-22T08:53:12.891092Z",
          "shell.execute_reply": "2023-04-22T08:53:12.901711Z"
        },
        "trusted": true,
        "id": "O_ADhdzNZOSo"
      },
      "execution_count": null,
      "outputs": []
    },
    {
      "cell_type": "markdown",
      "source": [
        "**Using the last {history_points} open high low close volume data points, predict the next close value**"
      ],
      "metadata": {
        "id": "AT7_PogNZOSo"
      }
    },
    {
      "cell_type": "code",
      "source": [
        "ohlcv_histories_normalised = np.array([data_normalised[i  : i + history_points].copy() for i in range(len(data_normalised) - history_points)])"
      ],
      "metadata": {
        "execution": {
          "iopub.status.busy": "2023-04-22T08:53:12.904531Z",
          "iopub.execute_input": "2023-04-22T08:53:12.904925Z",
          "iopub.status.idle": "2023-04-22T08:53:12.92347Z",
          "shell.execute_reply.started": "2023-04-22T08:53:12.90489Z",
          "shell.execute_reply": "2023-04-22T08:53:12.922574Z"
        },
        "trusted": true,
        "id": "w5cnzX2VZOSo"
      },
      "execution_count": null,
      "outputs": []
    },
    {
      "cell_type": "code",
      "source": [
        "next_day_close_values_normalised = np.array([data_normalised[:,3][i + history_points].copy() for i in range(len(data_normalised) - history_points)])"
      ],
      "metadata": {
        "execution": {
          "iopub.status.busy": "2023-04-22T08:53:12.925124Z",
          "iopub.execute_input": "2023-04-22T08:53:12.925504Z",
          "iopub.status.idle": "2023-04-22T08:53:12.933005Z",
          "shell.execute_reply.started": "2023-04-22T08:53:12.925466Z",
          "shell.execute_reply": "2023-04-22T08:53:12.931906Z"
        },
        "trusted": true,
        "id": "UYsJ0qjjZOSo"
      },
      "execution_count": null,
      "outputs": []
    },
    {
      "cell_type": "code",
      "source": [
        "next_day_close_values_normalised = np.expand_dims(next_day_close_values_normalised, -1)"
      ],
      "metadata": {
        "execution": {
          "iopub.status.busy": "2023-04-22T08:53:12.934867Z",
          "iopub.execute_input": "2023-04-22T08:53:12.935663Z",
          "iopub.status.idle": "2023-04-22T08:53:12.944159Z",
          "shell.execute_reply.started": "2023-04-22T08:53:12.935624Z",
          "shell.execute_reply": "2023-04-22T08:53:12.943136Z"
        },
        "trusted": true,
        "id": "Gz8jaBsoZOSp"
      },
      "execution_count": null,
      "outputs": []
    },
    {
      "cell_type": "code",
      "source": [
        "next_day_close_values = np.array([data.to_numpy()[:,3][i + history_points].copy() for i in range(len(data) - history_points)])\n",
        "next_day_close_values = next_day_close_values.reshape(next_day_close_values.shape[0], 1)"
      ],
      "metadata": {
        "execution": {
          "iopub.status.busy": "2023-04-22T08:53:12.946259Z",
          "iopub.execute_input": "2023-04-22T08:53:12.946792Z",
          "iopub.status.idle": "2023-04-22T08:53:12.969185Z",
          "shell.execute_reply.started": "2023-04-22T08:53:12.946755Z",
          "shell.execute_reply": "2023-04-22T08:53:12.96824Z"
        },
        "trusted": true,
        "id": "xXHCPPudZOSp"
      },
      "execution_count": null,
      "outputs": []
    },
    {
      "cell_type": "code",
      "source": [
        "y_normaliser = preprocessing.MinMaxScaler()\n",
        "y_normaliser.fit(next_day_close_values)"
      ],
      "metadata": {
        "execution": {
          "iopub.status.busy": "2023-04-22T08:53:12.970691Z",
          "iopub.execute_input": "2023-04-22T08:53:12.971053Z",
          "iopub.status.idle": "2023-04-22T08:53:12.986304Z",
          "shell.execute_reply.started": "2023-04-22T08:53:12.971016Z",
          "shell.execute_reply": "2023-04-22T08:53:12.985017Z"
        },
        "trusted": true,
        "id": "gz74mqTwZOSp"
      },
      "execution_count": null,
      "outputs": []
    },
    {
      "cell_type": "markdown",
      "source": [
        "**Traing-test split in the ratio of 9:1**"
      ],
      "metadata": {
        "id": "0okozY7dZOSp"
      }
    },
    {
      "cell_type": "code",
      "source": [
        "test_split = 0.9 # the percent of data to be used for training\n",
        "n = int(ohlcv_histories_normalised.shape[0] * test_split)"
      ],
      "metadata": {
        "execution": {
          "iopub.status.busy": "2023-04-22T08:53:12.98833Z",
          "iopub.execute_input": "2023-04-22T08:53:12.988817Z",
          "iopub.status.idle": "2023-04-22T08:53:12.994443Z",
          "shell.execute_reply.started": "2023-04-22T08:53:12.988769Z",
          "shell.execute_reply": "2023-04-22T08:53:12.993181Z"
        },
        "trusted": true,
        "id": "vCm8FHzYZOSp"
      },
      "execution_count": null,
      "outputs": []
    },
    {
      "cell_type": "code",
      "source": [
        "# splitting the dataset up into train and test sets\n",
        "\n",
        "x_train = ohlcv_histories_normalised[:n]\n",
        "y_train = next_day_close_values_normalised[:n]"
      ],
      "metadata": {
        "execution": {
          "iopub.status.busy": "2023-04-22T08:53:12.996403Z",
          "iopub.execute_input": "2023-04-22T08:53:12.997268Z",
          "iopub.status.idle": "2023-04-22T08:53:13.005374Z",
          "shell.execute_reply.started": "2023-04-22T08:53:12.997226Z",
          "shell.execute_reply": "2023-04-22T08:53:13.004064Z"
        },
        "trusted": true,
        "id": "ffgiiaU-ZOSp"
      },
      "execution_count": null,
      "outputs": []
    },
    {
      "cell_type": "code",
      "source": [
        "x_test = ohlcv_histories_normalised[n:]\n",
        "y_test = next_day_close_values_normalised[n:]"
      ],
      "metadata": {
        "execution": {
          "iopub.status.busy": "2023-04-22T08:53:13.011532Z",
          "iopub.execute_input": "2023-04-22T08:53:13.011843Z",
          "iopub.status.idle": "2023-04-22T08:53:13.016578Z",
          "shell.execute_reply.started": "2023-04-22T08:53:13.011814Z",
          "shell.execute_reply": "2023-04-22T08:53:13.01528Z"
        },
        "trusted": true,
        "id": "buwM5uENZOSp"
      },
      "execution_count": null,
      "outputs": []
    },
    {
      "cell_type": "markdown",
      "source": [
        "**Unscaled values for y-train and y-test will be used for calculating the model's RMSE later**"
      ],
      "metadata": {
        "id": "DutckeUTZOSq"
      }
    },
    {
      "cell_type": "code",
      "source": [
        "unscaled_y_train = next_day_close_values[:n]\n",
        "unscaled_y_test = next_day_close_values[n:]"
      ],
      "metadata": {
        "execution": {
          "iopub.status.busy": "2023-04-22T08:53:13.018685Z",
          "iopub.execute_input": "2023-04-22T08:53:13.01956Z",
          "iopub.status.idle": "2023-04-22T08:53:13.026751Z",
          "shell.execute_reply.started": "2023-04-22T08:53:13.01952Z",
          "shell.execute_reply": "2023-04-22T08:53:13.025362Z"
        },
        "trusted": true,
        "id": "1KVkdzJaZOSq"
      },
      "execution_count": null,
      "outputs": []
    },
    {
      "cell_type": "markdown",
      "source": [
        "**Feature Engineering - Simple Moving Average for the closing prices is used as an additional input feature in the LSTM model.**"
      ],
      "metadata": {
        "id": "gVok6G8WZOSq"
      }
    },
    {
      "cell_type": "code",
      "source": [
        "technical_indicators = []\n",
        "\n",
        "for his in ohlcv_histories_normalised:\n",
        "  # since we are using his[3] we are taking the SMA of the closing price\n",
        "  sma = np.mean(his[:,3])\n",
        "  technical_indicators.append(np.array([sma]))\n",
        "\n",
        "technical_indicators = np.array(technical_indicators)\n",
        "\n",
        "tech_ind_scaler = preprocessing.MinMaxScaler()\n",
        "technical_indicators_normalised = tech_ind_scaler.fit_transform(technical_indicators)\n",
        "technical_indicators_normalised.shape"
      ],
      "metadata": {
        "execution": {
          "iopub.status.busy": "2023-04-22T08:53:13.028959Z",
          "iopub.execute_input": "2023-04-22T08:53:13.029431Z",
          "iopub.status.idle": "2023-04-22T08:53:13.068547Z",
          "shell.execute_reply.started": "2023-04-22T08:53:13.02936Z",
          "shell.execute_reply": "2023-04-22T08:53:13.067015Z"
        },
        "trusted": true,
        "id": "weh-e8BcZOSq"
      },
      "execution_count": null,
      "outputs": []
    },
    {
      "cell_type": "code",
      "source": [
        "tech_ind_train = technical_indicators_normalised[:n]\n",
        "tech_ind_test = technical_indicators_normalised[n:]"
      ],
      "metadata": {
        "execution": {
          "iopub.status.busy": "2023-04-22T08:53:13.070377Z",
          "iopub.execute_input": "2023-04-22T08:53:13.070871Z",
          "iopub.status.idle": "2023-04-22T08:53:13.078371Z",
          "shell.execute_reply.started": "2023-04-22T08:53:13.070832Z",
          "shell.execute_reply": "2023-04-22T08:53:13.076772Z"
        },
        "trusted": true,
        "id": "4-DDrlV8ZOSq"
      },
      "execution_count": null,
      "outputs": []
    },
    {
      "cell_type": "markdown",
      "source": [
        "**Time Series Forecasting using LSTM**"
      ],
      "metadata": {
        "id": "A9GI6k5xZOSq"
      }
    },
    {
      "cell_type": "code",
      "source": [
        "# define two sets of inputs\n",
        "lstm_input = Input(shape=(history_points, 5), name='lstm_input')\n",
        "dense_input = Input(shape=(technical_indicators.shape[1],), name='tech_input')\n",
        "\n",
        "# the first branch operates on the first input\n",
        "x = LSTM(32, name='lstm_0')(lstm_input)\n",
        "x = Dropout(0.2, name='lstm_dropout_0')(x)\n",
        "lstm_branch = Model(inputs=lstm_input, outputs=x)\n",
        "\n",
        "# the second branch opreates on the second input\n",
        "y = Dense(20, name='tech_dense_0')(dense_input)\n",
        "y = Activation(\"relu\", name='tech_relu_0')(y)\n",
        "y = Dropout(0.2, name='tech_dropout_0')(y)\n",
        "technical_indicators_branch = Model(inputs=dense_input, outputs=y)\n",
        "\n",
        "# combine the output of the two branches\n",
        "combined = concatenate([lstm_branch.output, technical_indicators_branch.output], name='concatenate')\n",
        "\n",
        "z = Dense(64, activation=\"sigmoid\", name='dense_pooling')(combined)\n",
        "z = Dense(1, activation=\"linear\", name='dense_out')(z)\n",
        "\n",
        "# our model will accept the inputs of the two branches and then output a single value\n",
        "model = Model(inputs=[lstm_branch.input, technical_indicators_branch.input], outputs=z)\n",
        "\n",
        "adam = optimizers.Adam(lr=0.0005)\n",
        "model.compile(optimizer=adam,\n",
        "              loss='mse')\n",
        "\n",
        "from keras.utils import plot_model\n",
        "plot_model(model, to_file='model.png', show_shapes=True)"
      ],
      "metadata": {
        "execution": {
          "iopub.status.busy": "2023-04-22T08:53:13.080372Z",
          "iopub.execute_input": "2023-04-22T08:53:13.08098Z",
          "iopub.status.idle": "2023-04-22T08:53:16.197321Z",
          "shell.execute_reply.started": "2023-04-22T08:53:13.080811Z",
          "shell.execute_reply": "2023-04-22T08:53:16.195668Z"
        },
        "trusted": true,
        "id": "vMplafmgZOSq"
      },
      "execution_count": null,
      "outputs": []
    },
    {
      "cell_type": "code",
      "source": [
        "es = EarlyStopping(monitor='val_loss', mode='min', verbose=1, patience=30)\n",
        "history = model.fit(x=[x_train, tech_ind_train], y=y_train, batch_size=32, epochs=300, shuffle=True, validation_split=0.2, callbacks=[es])"
      ],
      "metadata": {
        "execution": {
          "iopub.status.busy": "2023-04-22T08:53:16.199575Z",
          "iopub.execute_input": "2023-04-22T08:53:16.201317Z",
          "iopub.status.idle": "2023-04-22T08:55:40.021249Z",
          "shell.execute_reply.started": "2023-04-22T08:53:16.201231Z",
          "shell.execute_reply": "2023-04-22T08:55:40.020142Z"
        },
        "trusted": true,
        "id": "RITcGmbTZOSr"
      },
      "execution_count": null,
      "outputs": []
    },
    {
      "cell_type": "code",
      "source": [
        "evaluation = model.evaluate([x_test, tech_ind_test], y_test)\n",
        "print(evaluation)"
      ],
      "metadata": {
        "execution": {
          "iopub.status.busy": "2023-04-22T08:55:40.023112Z",
          "iopub.execute_input": "2023-04-22T08:55:40.023413Z",
          "iopub.status.idle": "2023-04-22T08:55:40.135068Z",
          "shell.execute_reply.started": "2023-04-22T08:55:40.023384Z",
          "shell.execute_reply": "2023-04-22T08:55:40.134036Z"
        },
        "trusted": true,
        "id": "7Eh4naE2ZOSr"
      },
      "execution_count": null,
      "outputs": []
    },
    {
      "cell_type": "markdown",
      "source": [
        "**Calculating Train RMSE**"
      ],
      "metadata": {
        "id": "bR7zeM5RZOSr"
      }
    },
    {
      "cell_type": "code",
      "source": [
        "y_predicted_train = model.predict([x_train, tech_ind_train])\n",
        "y_predicted_train = y_normaliser.inverse_transform(y_predicted_train)\n",
        "\n",
        "real_mse_train = np.mean(np.square(unscaled_y_train - y_predicted_train))\n",
        "print(\"Train RMSE = {}\".format(real_mse_train))"
      ],
      "metadata": {
        "execution": {
          "iopub.status.busy": "2023-04-22T08:55:40.136758Z",
          "iopub.execute_input": "2023-04-22T08:55:40.137137Z",
          "iopub.status.idle": "2023-04-22T08:55:40.840415Z",
          "shell.execute_reply.started": "2023-04-22T08:55:40.137096Z",
          "shell.execute_reply": "2023-04-22T08:55:40.839284Z"
        },
        "trusted": true,
        "id": "46NdnwdXZOSr"
      },
      "execution_count": null,
      "outputs": []
    },
    {
      "cell_type": "markdown",
      "source": [
        "**Calculating Test RMSE**"
      ],
      "metadata": {
        "id": "x46TMWaRZOSr"
      }
    },
    {
      "cell_type": "code",
      "source": [
        "y_test_predicted = model.predict([x_test, tech_ind_test])\n",
        "y_test_predicted = y_normaliser.inverse_transform(y_test_predicted)\n",
        "\n",
        "real_mse_test = np.mean(np.square(unscaled_y_test - y_test_predicted))\n",
        "print(\"Test RMSE = {}\".format(real_mse_test))"
      ],
      "metadata": {
        "execution": {
          "iopub.status.busy": "2023-04-22T08:55:40.841922Z",
          "iopub.execute_input": "2023-04-22T08:55:40.842826Z",
          "iopub.status.idle": "2023-04-22T08:55:40.943913Z",
          "shell.execute_reply.started": "2023-04-22T08:55:40.842784Z",
          "shell.execute_reply": "2023-04-22T08:55:40.94278Z"
        },
        "trusted": true,
        "id": "qFBmSuP_ZOSr"
      },
      "execution_count": null,
      "outputs": []
    },
    {
      "cell_type": "markdown",
      "source": [
        "**Train Vs Validation Loss**"
      ],
      "metadata": {
        "id": "5eyOOZ2qZOSs"
      }
    },
    {
      "cell_type": "code",
      "source": [
        "from matplotlib import pyplot\n",
        "\n",
        "pyplot.plot(history.history['loss'])\n",
        "pyplot.plot(history.history['val_loss'])\n",
        "pyplot.title('model train vs validation loss')\n",
        "pyplot.ylabel('loss')\n",
        "pyplot.xlabel('epoch')\n",
        "pyplot.legend(['train', 'validation'], loc='upper right')\n",
        "pyplot.show()"
      ],
      "metadata": {
        "execution": {
          "iopub.status.busy": "2023-04-22T08:55:40.94564Z",
          "iopub.execute_input": "2023-04-22T08:55:40.946005Z",
          "iopub.status.idle": "2023-04-22T08:55:41.204007Z",
          "shell.execute_reply.started": "2023-04-22T08:55:40.945968Z",
          "shell.execute_reply": "2023-04-22T08:55:41.202953Z"
        },
        "trusted": true,
        "id": "ga9IPEQtZOSs"
      },
      "execution_count": null,
      "outputs": []
    },
    {
      "cell_type": "markdown",
      "source": [
        "**Real Vs Predicted Time Series**"
      ],
      "metadata": {
        "id": "WaRYaPs3ZOSs"
      }
    },
    {
      "cell_type": "code",
      "source": [
        "import matplotlib.pyplot as plt\n",
        "plt.gcf().set_size_inches(22, 15, forward=True)\n",
        "\n",
        "start = 0\n",
        "end = -1\n",
        "\n",
        "real = plt.plot(unscaled_y_test[start:end], label='real')\n",
        "pred = plt.plot(y_test_predicted[start:end], label='predicted')\n",
        "\n",
        "plt.legend(['Real', 'Predicted'])\n",
        "\n",
        "plt.show()"
      ],
      "metadata": {
        "execution": {
          "iopub.status.busy": "2023-04-22T08:55:41.205441Z",
          "iopub.execute_input": "2023-04-22T08:55:41.206315Z",
          "iopub.status.idle": "2023-04-22T08:55:41.596078Z",
          "shell.execute_reply.started": "2023-04-22T08:55:41.206274Z",
          "shell.execute_reply": "2023-04-22T08:55:41.595122Z"
        },
        "trusted": true,
        "id": "rbj_sTywZOSx"
      },
      "execution_count": null,
      "outputs": []
    }
  ]
}